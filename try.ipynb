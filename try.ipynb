{
 "cells": [
  {
   "cell_type": "code",
   "execution_count": 10,
   "metadata": {},
   "outputs": [],
   "source": [
    "from globus_compute_sdk import Client"
   ]
  },
  {
   "cell_type": "code",
   "execution_count": 11,
   "metadata": {},
   "outputs": [
    {
     "data": {
      "text/plain": [
       "<globus_compute_sdk.sdk.client.Client at 0x1121fb500>"
      ]
     },
     "execution_count": 11,
     "metadata": {},
     "output_type": "execute_result"
    }
   ],
   "source": [
    "Client()"
   ]
  },
  {
   "cell_type": "code",
   "execution_count": 12,
   "metadata": {},
   "outputs": [
    {
     "name": "stderr",
     "output_type": "stream",
     "text": [
      "Local SDK and remote worker execution environment differences detected for endpoint 8007f4ed-0fd7-0adf-5c29-ab5de5df4716 -\n",
      "  SDK uses Python 3.12.4/Dill 0.3.6 but worker used 3.11.8/0.3.6\n",
      "  (worker SDK version: 2.24.0; worker OS: Linux-5.10.219-208.866.amzn2.x86_64-x86_64-with-glibc2.36)\n",
      "Dill and Python version mismatches can cause issues during function/argument (de)serialization. Globus Compute recommends keeping them in sync.\n"
     ]
    },
    {
     "name": "stdout",
     "output_type": "stream",
     "text": [
      "15\n"
     ]
    }
   ],
   "source": [
    "from globus_compute_sdk import Executor\n",
    "\n",
    "# First, define the function ...\n",
    "\n",
    "\n",
    "def add_func(a, b):\n",
    "    return a + b\n",
    "\n",
    "\n",
    "# Public tutorial endpoint\n",
    "tutorial_endpoint_id = '4b116d3c-1703-4f8f-9f6f-39921e5864df'\n",
    "# ... then create the executor, ...\n",
    "with Executor(endpoint_id=tutorial_endpoint_id) as gce:\n",
    "    # ... then submit for execution, ...\n",
    "    future = gce.submit(add_func, 5, 10)\n",
    "\n",
    "    # ... and finally, wait for the result\n",
    "    print(future.result())"
   ]
  }
 ],
 "metadata": {
  "kernelspec": {
   "display_name": "Python (globus)",
   "language": "python",
   "name": "myenv"
  },
  "language_info": {
   "codemirror_mode": {
    "name": "ipython",
    "version": 3
   },
   "file_extension": ".py",
   "mimetype": "text/x-python",
   "name": "python",
   "nbconvert_exporter": "python",
   "pygments_lexer": "ipython3",
   "version": "3.12.4"
  }
 },
 "nbformat": 4,
 "nbformat_minor": 2
}
